{
 "cells": [
  {
   "cell_type": "code",
   "execution_count": 10,
   "metadata": {},
   "outputs": [],
   "source": [
    "import pandas\n",
    "\n",
    "def merge_columns(row):\n",
    "    return row.tolist()\n",
    "\n",
    "precaution_df = pandas.read_csv(\"symptom_precaution.csv\")\n",
    "columns_to_merge = [\"Precaution_1\", \"Precaution_2\", \"Precaution_3\", \"Precaution_4\"]\n",
    "precaution_df[\"Precautions\"] = precaution_df[columns_to_merge].apply(merge_columns, axis=1)\n",
    "precaution_df.drop(columns=columns_to_merge, inplace=True)\n",
    "precaution_df.head()\n",
    "precaution_df.to_csv(\"symptom_precaution_modified.csv\", index=False)\n",
    "\n",
    "dataset_df = pandas.read_csv(\"dataset.csv\")\n",
    "columns_to_merge = [\"Symptom_1\", \"Symptom_2\", \"Symptom_3\", \"Symptom_4\", \"Symptom_5\", \"Symptom_6\", \"Symptom_7\", \"Symptom_8\", \"Symptom_9\", \"Symptom_10\", \"Symptom_11\", \"Symptom_12\", \"Symptom_13\", \"Symptom_14\", \"Symptom_15\", \"Symptom_16\", \"Symptom_17\"]\n",
    "dataset_df[\"Symptoms\"] = dataset_df[columns_to_merge].apply(merge_columns, axis=1)\n",
    "dataset_df.drop(columns=columns_to_merge, inplace=True)\n",
    "dataset_df.head()\n",
    "dataset_df.to_csv(\"dataset_modified.csv\", index=False)\n",
    "\n",
    "\n",
    "\n"
   ]
  }
 ],
 "metadata": {
  "kernelspec": {
   "display_name": "Python 3.11.4 ('lablabai')",
   "language": "python",
   "name": "python3"
  },
  "language_info": {
   "codemirror_mode": {
    "name": "ipython",
    "version": 3
   },
   "file_extension": ".py",
   "mimetype": "text/x-python",
   "name": "python",
   "nbconvert_exporter": "python",
   "pygments_lexer": "ipython3",
   "version": "3.11.4"
  },
  "orig_nbformat": 4,
  "vscode": {
   "interpreter": {
    "hash": "08410a8c6d125feb228651ed2cbc18b6b55950bca5ec4be109e06784123d37eb"
   }
  }
 },
 "nbformat": 4,
 "nbformat_minor": 2
}
